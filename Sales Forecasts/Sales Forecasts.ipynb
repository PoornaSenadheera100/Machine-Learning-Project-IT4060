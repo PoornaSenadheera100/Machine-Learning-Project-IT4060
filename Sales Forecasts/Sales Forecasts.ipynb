{
 "cells": [
  {
   "cell_type": "markdown",
   "id": "926fac2c-edcc-4966-abd7-58ed129d4a0b",
   "metadata": {},
   "source": [
    "# Sales Forecasting\n",
    "\n",
    "\n",
    "### Reg No: IT\n",
    "### Name: \n",
    "\n",
    "<hr/>\n",
    "\n",
    "<ul>\n",
    "    <li><b>Target Variable:</b> Total sales (considering the Total attribute)</li>\n",
    "    <li><b>Predictors:</b> Branch, Customer type, Gender, Product line, Quantity, Date, Time, Payment, COGS, and Gross income</li>\n",
    "    <li><b>Objective:</b> Predict the total sales amount based on various factors such as the type of products, customer demographics, and purchase details.</li>\n",
    "</ul>\n",
    "\n",
    "\n"
   ]
  }
 ],
 "metadata": {
  "kernelspec": {
   "display_name": "Python 3 (ipykernel)",
   "language": "python",
   "name": "python3"
  },
  "language_info": {
   "codemirror_mode": {
    "name": "ipython",
    "version": 3
   },
   "file_extension": ".py",
   "mimetype": "text/x-python",
   "name": "python",
   "nbconvert_exporter": "python",
   "pygments_lexer": "ipython3",
   "version": "3.11.3"
  }
 },
 "nbformat": 4,
 "nbformat_minor": 5
}
