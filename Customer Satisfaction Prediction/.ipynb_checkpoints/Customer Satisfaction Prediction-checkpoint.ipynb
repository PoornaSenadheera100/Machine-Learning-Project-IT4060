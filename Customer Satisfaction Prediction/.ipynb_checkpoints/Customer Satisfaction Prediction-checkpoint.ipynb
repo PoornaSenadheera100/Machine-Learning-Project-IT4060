{
 "cells": [
  {
   "cell_type": "markdown",
   "id": "926fac2c-edcc-4966-abd7-58ed129d4a0b",
   "metadata": {},
   "source": [
    "# Customer Satisfaction Prediction\n",
    "\n",
    "\n",
    "### Reg No: IT\n",
    "### Name: \n",
    "\n",
    "<hr/>\n",
    "\n",
    "<ul>\n",
    "    <li><b>Target Variable:</b> Rating (customer satisfaction rating)</li>\n",
    "    <li><b>Predictors:</b> Customer type, Gender, Product line, Date, Time, Payment, COGS, and Gross income</li>\n",
    "    <li><b>Objective:</b> Predict customer satisfaction ratings based on their purchase details and demographics, helping to identify factors that contribute to higher or lower satisfaction levels.</li>\n",
    "</ul>\n",
    "\n",
    "\n"
   ]
  }
 ],
 "metadata": {
  "kernelspec": {
   "display_name": "Python 3 (ipykernel)",
   "language": "python",
   "name": "python3"
  },
  "language_info": {
   "codemirror_mode": {
    "name": "ipython",
    "version": 3
   },
   "file_extension": ".py",
   "mimetype": "text/x-python",
   "name": "python",
   "nbconvert_exporter": "python",
   "pygments_lexer": "ipython3",
   "version": "3.11.3"
  }
 },
 "nbformat": 4,
 "nbformat_minor": 5
}
