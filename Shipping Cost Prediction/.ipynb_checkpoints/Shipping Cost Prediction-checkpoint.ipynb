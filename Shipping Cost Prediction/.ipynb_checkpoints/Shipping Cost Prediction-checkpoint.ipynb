{
 "cells": [
  {
   "cell_type": "markdown",
   "id": "926fac2c-edcc-4966-abd7-58ed129d4a0b",
   "metadata": {},
   "source": [
    "# Shipping Cost Prediction\n",
    "\n",
    "\n",
    "### Reg No: IT21134180\n",
    "### Name: Vihansa S.A.S\n",
    "\n",
    "<hr/>\n",
    "\n",
    "<ul>\n",
    "    <li><b>Target Variable:</b> Shipping Cost </li>\n",
    "    <li><b>Predictors:</b> Type here the predictors...</li>\n",
    "    <li><b>Objective:</b> Type here the objective.</li>\n",
    "</ul>\n",
    "\n",
    "\n"
   ]
  },
  {
   "cell_type": "code",
   "execution_count": null,
   "id": "bbb6e88a-a14f-4ae1-bc11-4b3a7b1cf528",
   "metadata": {},
   "outputs": [],
   "source": []
  }
 ],
 "metadata": {
  "kernelspec": {
   "display_name": "Python 3 (ipykernel)",
   "language": "python",
   "name": "python3"
  },
  "language_info": {
   "codemirror_mode": {
    "name": "ipython",
    "version": 3
   },
   "file_extension": ".py",
   "mimetype": "text/x-python",
   "name": "python",
   "nbconvert_exporter": "python",
   "pygments_lexer": "ipython3",
   "version": "3.11.3"
  }
 },
 "nbformat": 4,
 "nbformat_minor": 5
}
